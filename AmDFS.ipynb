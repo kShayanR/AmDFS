{
 "cells": [
  {
   "cell_type": "code",
   "execution_count": 1,
   "id": "4fe77efd",
   "metadata": {},
   "outputs": [],
   "source": [
    "import numpy as np\n",
    "# create a 20x20 matrix of integers between 0 and 100\n",
    "# matrix = np.random.randint(0, 2, (10, 10))\n"
   ]
  },
  {
   "cell_type": "code",
   "execution_count": 2,
   "id": "76df33de",
   "metadata": {},
   "outputs": [],
   "source": [
    "def show(matrix):\n",
    "    print('   0  1  2  3  4  5  6  7  8  9')\n",
    "    for i, item in enumerate(matrix):\n",
    "        print(i , item)\n"
   ]
  },
  {
   "cell_type": "code",
   "execution_count": 6,
   "id": "1a11975d",
   "metadata": {},
   "outputs": [
    {
     "name": "stdout",
     "output_type": "stream",
     "text": [
      "   0  1  2  3  4  5  6  7  8  9\n",
      "0 [0, 0, 0, 0, 0, 1, 0, 0, 0, 0]\n",
      "1 [0, 0, 0, 0, 0, 1, 0, 0, 0, 0]\n",
      "2 [1, 0, 0, 1, 0, 0, 0, 0, 0, 1]\n",
      "3 [0, 0, 0, 0, 0, 0, 0, 0, 0, 0]\n",
      "4 [0, 0, 1, 0, 0, 0, 0, 0, 1, 0]\n",
      "5 [0, 0, 0, 0, 0, 0, 0, 0, 0, 0]\n",
      "6 [1, 1, 0, 0, 0, 0, 0, 0, 1, 1]\n",
      "7 [0, 0, 0, 1, 0, 0, 1, 0, 0, 0]\n",
      "8 [0, 0, 0, 0, 0, 1, 1, 0, 0, 1]\n",
      "9 [0, 0, 0, 0, 0, 0, 1, 0, 0, 0]\n"
     ]
    }
   ],
   "source": [
    "\n",
    "matrix = [[0 for i in range(10)] for i in range(10)]\n",
    "import random\n",
    " \n",
    "for i in range(20):\n",
    "    first = random.randint(0 , 9)\n",
    "    second = random.randint(0 , 9)\n",
    "    while first == second:\n",
    "        first = random.randint(0 , 9)\n",
    "        second = random.randint(0 , 9)\n",
    "    matrix[first][second] = 1\n",
    "    \n",
    "show(matrix)"
   ]
  },
  {
   "cell_type": "code",
   "execution_count": 7,
   "id": "40cd160c",
   "metadata": {},
   "outputs": [],
   "source": [
    "found = False\n",
    "def dfs(matrix, start_node, finish_node, visited):\n",
    "    # mark the current node as visited\n",
    "    visited[start_node] = True\n",
    "    # print the current node\n",
    "    print(start_node)\n",
    "    global found\n",
    "    # explore the neighbors in each direction\n",
    "    for i in range(10):\n",
    "        if found:\n",
    "            break\n",
    "        if matrix[i][start_node] == 1:\n",
    "            if i == finish_node:\n",
    "                print(f'found {i}')\n",
    "                found = True\n",
    "                break\n",
    "            else:\n",
    "                if not visited[i]:\n",
    "                    dfs(matrix, i, finish_node, visited)\n",
    "    if not found:\n",
    "        print('backtracking')"
   ]
  },
  {
   "cell_type": "code",
   "execution_count": 8,
   "id": "269211ce",
   "metadata": {},
   "outputs": [
    {
     "name": "stdout",
     "output_type": "stream",
     "text": [
      "0\n",
      "2\n",
      "4\n",
      "backtracking\n",
      "backtracking\n",
      "6\n",
      "7\n",
      "backtracking\n",
      "found 8\n"
     ]
    }
   ],
   "source": [
    "visited = [False for i in range(10)]\n",
    "dfs(matrix, 0, 8, visited)\n",
    "if not found:\n",
    "    print('no path exists')"
   ]
  },
  {
   "cell_type": "code",
   "execution_count": null,
   "id": "f28e2a67",
   "metadata": {},
   "outputs": [],
   "source": []
  },
  {
   "cell_type": "code",
   "execution_count": null,
   "id": "26846f3a",
   "metadata": {},
   "outputs": [],
   "source": []
  }
 ],
 "metadata": {
  "kernelspec": {
   "display_name": "Python 3 (ipykernel)",
   "language": "python",
   "name": "python3"
  },
  "language_info": {
   "codemirror_mode": {
    "name": "ipython",
    "version": 3
   },
   "file_extension": ".py",
   "mimetype": "text/x-python",
   "name": "python",
   "nbconvert_exporter": "python",
   "pygments_lexer": "ipython3",
   "version": "3.10.6"
  }
 },
 "nbformat": 4,
 "nbformat_minor": 5
}
